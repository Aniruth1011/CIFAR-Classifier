{
 "cells": [
  {
   "cell_type": "markdown",
   "id": "cf954f07",
   "metadata": {},
   "source": [
    "Import Dependencies"
   ]
  },
  {
   "cell_type": "code",
   "execution_count": 1,
   "id": "c030c7cd",
   "metadata": {},
   "outputs": [],
   "source": [
    "import numpy as np\n",
    "import matplotlib.pyplot as plt \n",
    "import tensorflow as tf\n",
    "from tensorflow.keras.layers import Conv2D , MaxPooling2D , Dense , Flatten , Dropout"
   ]
  },
  {
   "cell_type": "markdown",
   "id": "700a5010",
   "metadata": {},
   "source": [
    "Import Dataset"
   ]
  },
  {
   "cell_type": "code",
   "execution_count": 2,
   "id": "86df53ef",
   "metadata": {},
   "outputs": [],
   "source": [
    "(train_features , train_labels ) , (test_features , test_labels ) = tf.keras.datasets.cifar10.load_data()"
   ]
  },
  {
   "cell_type": "code",
   "execution_count": 3,
   "id": "cb686264",
   "metadata": {},
   "outputs": [
    {
     "data": {
      "text/plain": [
       "(50000, 32, 32, 3)"
      ]
     },
     "execution_count": 3,
     "metadata": {},
     "output_type": "execute_result"
    }
   ],
   "source": [
    "train_features.shape"
   ]
  },
  {
   "cell_type": "code",
   "execution_count": 4,
   "id": "0cc2b560",
   "metadata": {},
   "outputs": [],
   "source": [
    "train_features = train_features.reshape((50000 , 32 , 32 , 3))\n",
    "test_features = test_features.reshape((10000 , 32 , 32 , 3))"
   ]
  },
  {
   "cell_type": "code",
   "execution_count": 5,
   "id": "91ecdfa4",
   "metadata": {},
   "outputs": [],
   "source": [
    "train_features = train_features.astype('float32')\n",
    "test_features = test_features.astype('float32')"
   ]
  },
  {
   "cell_type": "code",
   "execution_count": 6,
   "id": "273118ca",
   "metadata": {},
   "outputs": [],
   "source": [
    "train_features/=255\n",
    "test_features/=255"
   ]
  },
  {
   "cell_type": "code",
   "execution_count": 7,
   "id": "15b179bd",
   "metadata": {},
   "outputs": [],
   "source": [
    "from tensorflow.keras.utils import to_categorical"
   ]
  },
  {
   "cell_type": "code",
   "execution_count": 8,
   "id": "850bb2a8",
   "metadata": {},
   "outputs": [],
   "source": [
    "train_labels = to_categorical(train_labels)\n",
    "test_labels = to_categorical(test_labels)"
   ]
  },
  {
   "cell_type": "code",
   "execution_count": 9,
   "id": "3147caa6",
   "metadata": {},
   "outputs": [],
   "source": [
    "model = tf.keras.Sequential()"
   ]
  },
  {
   "cell_type": "code",
   "execution_count": 10,
   "id": "dee13e1b",
   "metadata": {},
   "outputs": [],
   "source": [
    "model.add(Conv2D(32, (3, 3), activation='relu', padding='same', input_shape=(32, 32, 3)))\n",
    "model.add(MaxPooling2D((2, 2)))"
   ]
  },
  {
   "cell_type": "code",
   "execution_count": 11,
   "id": "42ed2f78",
   "metadata": {},
   "outputs": [],
   "source": [
    "model.add(Conv2D(64, (3, 3), activation='relu',  padding='same'))\n",
    "model.add(MaxPooling2D((2, 2)))"
   ]
  },
  {
   "cell_type": "code",
   "execution_count": 12,
   "id": "dc0d52bb",
   "metadata": {},
   "outputs": [],
   "source": [
    "model.add(Conv2D(128, (3, 3), activation='relu',  padding='same'))\n",
    "model.add(MaxPooling2D((2, 2)))"
   ]
  },
  {
   "cell_type": "code",
   "execution_count": 13,
   "id": "ff9e5223",
   "metadata": {},
   "outputs": [],
   "source": [
    "model.add(Flatten())\n",
    "model.add(Dense(256, activation='relu'))"
   ]
  },
  {
   "cell_type": "code",
   "execution_count": 14,
   "id": "578c2ca1",
   "metadata": {},
   "outputs": [],
   "source": [
    "model.add(Dropout(0.5))\n",
    "model.add(Dense(10, activation='softmax'))"
   ]
  },
  {
   "cell_type": "code",
   "execution_count": 18,
   "id": "b00625d0",
   "metadata": {},
   "outputs": [],
   "source": [
    "model.compile(loss ='categorical_crossentropy' , optimizer = 'sgd' , metrics = ['accuracy'])"
   ]
  },
  {
   "cell_type": "code",
   "execution_count": 19,
   "id": "3ae281f1",
   "metadata": {},
   "outputs": [
    {
     "name": "stdout",
     "output_type": "stream",
     "text": [
      "Model: \"sequential\"\n",
      "_________________________________________________________________\n",
      " Layer (type)                Output Shape              Param #   \n",
      "=================================================================\n",
      " conv2d (Conv2D)             (None, 32, 32, 32)        896       \n",
      "                                                                 \n",
      " max_pooling2d (MaxPooling2D  (None, 16, 16, 32)       0         \n",
      " )                                                               \n",
      "                                                                 \n",
      " conv2d_1 (Conv2D)           (None, 16, 16, 64)        18496     \n",
      "                                                                 \n",
      " max_pooling2d_1 (MaxPooling  (None, 8, 8, 64)         0         \n",
      " 2D)                                                             \n",
      "                                                                 \n",
      " conv2d_2 (Conv2D)           (None, 8, 8, 128)         73856     \n",
      "                                                                 \n",
      " max_pooling2d_2 (MaxPooling  (None, 4, 4, 128)        0         \n",
      " 2D)                                                             \n",
      "                                                                 \n",
      " flatten (Flatten)           (None, 2048)              0         \n",
      "                                                                 \n",
      " dense (Dense)               (None, 256)               524544    \n",
      "                                                                 \n",
      " dropout (Dropout)           (None, 256)               0         \n",
      "                                                                 \n",
      " dense_1 (Dense)             (None, 10)                2570      \n",
      "                                                                 \n",
      "=================================================================\n",
      "Total params: 620,362\n",
      "Trainable params: 620,362\n",
      "Non-trainable params: 0\n",
      "_________________________________________________________________\n"
     ]
    }
   ],
   "source": [
    "model.summary()"
   ]
  },
  {
   "cell_type": "code",
   "execution_count": 20,
   "id": "c3ddf0ff",
   "metadata": {},
   "outputs": [
    {
     "name": "stdout",
     "output_type": "stream",
     "text": [
      "Epoch 1/100\n",
      "704/704 [==============================] - 18s 8ms/step - loss: 2.1842 - accuracy: 0.1919 - val_loss: 2.0035 - val_accuracy: 0.2764\n",
      "Epoch 2/100\n",
      "704/704 [==============================] - 5s 8ms/step - loss: 1.9619 - accuracy: 0.2873 - val_loss: 2.0457 - val_accuracy: 0.2500\n",
      "Epoch 3/100\n",
      "704/704 [==============================] - 5s 8ms/step - loss: 1.8043 - accuracy: 0.3525 - val_loss: 1.7544 - val_accuracy: 0.3692\n",
      "Epoch 4/100\n",
      "704/704 [==============================] - 5s 8ms/step - loss: 1.6635 - accuracy: 0.4036 - val_loss: 1.7335 - val_accuracy: 0.3596\n",
      "Epoch 5/100\n",
      "704/704 [==============================] - 5s 7ms/step - loss: 1.5622 - accuracy: 0.4348 - val_loss: 1.4476 - val_accuracy: 0.4812\n",
      "Epoch 6/100\n",
      "704/704 [==============================] - 5s 7ms/step - loss: 1.4950 - accuracy: 0.4607 - val_loss: 1.9513 - val_accuracy: 0.3602\n",
      "Epoch 7/100\n",
      "704/704 [==============================] - 5s 7ms/step - loss: 1.4424 - accuracy: 0.4815 - val_loss: 1.3915 - val_accuracy: 0.4994\n",
      "Epoch 8/100\n",
      "704/704 [==============================] - 5s 8ms/step - loss: 1.3979 - accuracy: 0.4979 - val_loss: 1.3990 - val_accuracy: 0.4932\n",
      "Epoch 9/100\n",
      "704/704 [==============================] - 5s 7ms/step - loss: 1.3554 - accuracy: 0.5171 - val_loss: 1.9175 - val_accuracy: 0.3580\n",
      "Epoch 10/100\n",
      "704/704 [==============================] - 5s 7ms/step - loss: 1.3217 - accuracy: 0.5251 - val_loss: 1.3816 - val_accuracy: 0.5110\n",
      "Epoch 11/100\n",
      "704/704 [==============================] - 5s 8ms/step - loss: 1.2823 - accuracy: 0.5411 - val_loss: 1.4068 - val_accuracy: 0.4874\n",
      "Epoch 12/100\n",
      "704/704 [==============================] - 5s 8ms/step - loss: 1.2509 - accuracy: 0.5522 - val_loss: 1.2095 - val_accuracy: 0.5604\n",
      "Epoch 13/100\n",
      "704/704 [==============================] - 5s 8ms/step - loss: 1.2143 - accuracy: 0.5658 - val_loss: 2.3476 - val_accuracy: 0.3276\n",
      "Epoch 14/100\n",
      "704/704 [==============================] - 5s 7ms/step - loss: 1.1819 - accuracy: 0.5804 - val_loss: 1.1765 - val_accuracy: 0.5832\n",
      "Epoch 15/100\n",
      "704/704 [==============================] - 5s 8ms/step - loss: 1.1484 - accuracy: 0.5918 - val_loss: 1.1257 - val_accuracy: 0.5964\n",
      "Epoch 16/100\n",
      "704/704 [==============================] - 5s 7ms/step - loss: 1.1178 - accuracy: 0.6044 - val_loss: 1.1131 - val_accuracy: 0.6060\n",
      "Epoch 17/100\n",
      "704/704 [==============================] - 5s 8ms/step - loss: 1.0891 - accuracy: 0.6147 - val_loss: 1.0394 - val_accuracy: 0.6366\n",
      "Epoch 18/100\n",
      "704/704 [==============================] - 5s 8ms/step - loss: 1.0595 - accuracy: 0.6267 - val_loss: 1.0108 - val_accuracy: 0.6522\n",
      "Epoch 19/100\n",
      "704/704 [==============================] - 5s 7ms/step - loss: 1.0294 - accuracy: 0.6364 - val_loss: 1.5353 - val_accuracy: 0.4462\n",
      "Epoch 20/100\n",
      "704/704 [==============================] - 5s 7ms/step - loss: 1.0108 - accuracy: 0.6430 - val_loss: 1.1336 - val_accuracy: 0.5990\n",
      "Epoch 21/100\n",
      "704/704 [==============================] - 5s 8ms/step - loss: 0.9786 - accuracy: 0.6546 - val_loss: 1.1223 - val_accuracy: 0.5904\n",
      "Epoch 22/100\n",
      "704/704 [==============================] - 5s 8ms/step - loss: 0.9591 - accuracy: 0.6621 - val_loss: 0.9270 - val_accuracy: 0.6748\n",
      "Epoch 23/100\n",
      "704/704 [==============================] - 6s 8ms/step - loss: 0.9376 - accuracy: 0.6707 - val_loss: 0.9728 - val_accuracy: 0.6566\n",
      "Epoch 24/100\n",
      "704/704 [==============================] - 6s 8ms/step - loss: 0.9161 - accuracy: 0.6776 - val_loss: 0.9457 - val_accuracy: 0.6682\n",
      "Epoch 25/100\n",
      "704/704 [==============================] - 6s 8ms/step - loss: 0.8957 - accuracy: 0.6857 - val_loss: 1.3681 - val_accuracy: 0.5632\n",
      "Epoch 26/100\n",
      "704/704 [==============================] - 5s 7ms/step - loss: 0.8762 - accuracy: 0.6944 - val_loss: 0.9194 - val_accuracy: 0.6738\n",
      "Epoch 27/100\n",
      "704/704 [==============================] - 5s 8ms/step - loss: 0.8580 - accuracy: 0.6968 - val_loss: 0.8294 - val_accuracy: 0.7162\n",
      "Epoch 28/100\n",
      "704/704 [==============================] - 5s 8ms/step - loss: 0.8373 - accuracy: 0.7061 - val_loss: 0.9338 - val_accuracy: 0.6766\n",
      "Epoch 29/100\n",
      "704/704 [==============================] - 5s 8ms/step - loss: 0.8191 - accuracy: 0.7119 - val_loss: 1.1609 - val_accuracy: 0.6114\n",
      "Epoch 30/100\n",
      "704/704 [==============================] - 5s 8ms/step - loss: 0.8026 - accuracy: 0.7168 - val_loss: 0.9301 - val_accuracy: 0.6768\n",
      "Epoch 31/100\n",
      "704/704 [==============================] - 5s 8ms/step - loss: 0.7856 - accuracy: 0.7242 - val_loss: 0.8433 - val_accuracy: 0.7086\n",
      "Epoch 32/100\n",
      "704/704 [==============================] - 5s 7ms/step - loss: 0.7679 - accuracy: 0.7306 - val_loss: 0.8371 - val_accuracy: 0.7172\n",
      "Epoch 33/100\n",
      "704/704 [==============================] - 5s 8ms/step - loss: 0.7517 - accuracy: 0.7347 - val_loss: 0.9781 - val_accuracy: 0.6664\n",
      "Epoch 34/100\n",
      "704/704 [==============================] - 5s 8ms/step - loss: 0.7427 - accuracy: 0.7385 - val_loss: 1.0132 - val_accuracy: 0.6608\n",
      "Epoch 35/100\n",
      "704/704 [==============================] - 5s 8ms/step - loss: 0.7271 - accuracy: 0.7452 - val_loss: 0.9724 - val_accuracy: 0.6544\n",
      "Epoch 36/100\n",
      "704/704 [==============================] - 5s 8ms/step - loss: 0.7125 - accuracy: 0.7506 - val_loss: 0.7971 - val_accuracy: 0.7300\n",
      "Epoch 37/100\n",
      "704/704 [==============================] - 5s 8ms/step - loss: 0.6940 - accuracy: 0.7577 - val_loss: 0.8232 - val_accuracy: 0.7106\n",
      "Epoch 38/100\n",
      "704/704 [==============================] - 5s 8ms/step - loss: 0.6860 - accuracy: 0.7584 - val_loss: 0.8469 - val_accuracy: 0.7140\n",
      "Epoch 39/100\n",
      "704/704 [==============================] - 5s 7ms/step - loss: 0.6704 - accuracy: 0.7641 - val_loss: 0.7864 - val_accuracy: 0.7326\n",
      "Epoch 40/100\n",
      "704/704 [==============================] - 5s 8ms/step - loss: 0.6560 - accuracy: 0.7697 - val_loss: 0.7461 - val_accuracy: 0.7452\n",
      "Epoch 41/100\n",
      "704/704 [==============================] - 5s 8ms/step - loss: 0.6361 - accuracy: 0.7756 - val_loss: 2.7665 - val_accuracy: 0.3798\n",
      "Epoch 42/100\n",
      "704/704 [==============================] - 5s 8ms/step - loss: 0.6377 - accuracy: 0.7762 - val_loss: 0.9824 - val_accuracy: 0.6726\n",
      "Epoch 43/100\n",
      "704/704 [==============================] - 5s 7ms/step - loss: 0.6170 - accuracy: 0.7833 - val_loss: 0.7295 - val_accuracy: 0.7532\n",
      "Epoch 44/100\n",
      "704/704 [==============================] - 5s 7ms/step - loss: 0.6031 - accuracy: 0.7870 - val_loss: 0.8029 - val_accuracy: 0.7388\n",
      "Epoch 45/100\n",
      "704/704 [==============================] - 5s 8ms/step - loss: 0.5907 - accuracy: 0.7904 - val_loss: 0.9049 - val_accuracy: 0.6952\n",
      "Epoch 46/100\n",
      "704/704 [==============================] - 5s 8ms/step - loss: 0.5785 - accuracy: 0.7950 - val_loss: 0.8710 - val_accuracy: 0.7188\n",
      "Epoch 47/100\n",
      "704/704 [==============================] - 5s 7ms/step - loss: 0.5670 - accuracy: 0.8009 - val_loss: 0.8320 - val_accuracy: 0.7190\n",
      "Epoch 48/100\n",
      "704/704 [==============================] - 5s 8ms/step - loss: 0.5513 - accuracy: 0.8038 - val_loss: 1.0172 - val_accuracy: 0.6784\n",
      "Epoch 49/100\n",
      "704/704 [==============================] - 5s 8ms/step - loss: 0.5416 - accuracy: 0.8084 - val_loss: 0.7455 - val_accuracy: 0.7522\n",
      "Epoch 50/100\n",
      "704/704 [==============================] - 5s 8ms/step - loss: 0.5321 - accuracy: 0.8106 - val_loss: 1.0223 - val_accuracy: 0.6660\n",
      "Epoch 51/100\n",
      "704/704 [==============================] - 5s 8ms/step - loss: 0.5239 - accuracy: 0.8157 - val_loss: 0.7720 - val_accuracy: 0.7490\n",
      "Epoch 52/100\n",
      "704/704 [==============================] - 5s 7ms/step - loss: 0.5055 - accuracy: 0.8215 - val_loss: 0.8540 - val_accuracy: 0.7256\n",
      "Epoch 53/100\n",
      "704/704 [==============================] - 5s 7ms/step - loss: 0.4956 - accuracy: 0.8250 - val_loss: 0.7794 - val_accuracy: 0.7482\n",
      "Epoch 54/100\n",
      "704/704 [==============================] - 5s 7ms/step - loss: 0.4860 - accuracy: 0.8285 - val_loss: 0.7626 - val_accuracy: 0.7578\n",
      "Epoch 55/100\n",
      "704/704 [==============================] - 5s 8ms/step - loss: 0.4760 - accuracy: 0.8304 - val_loss: 0.8698 - val_accuracy: 0.7124\n",
      "Epoch 56/100\n",
      "704/704 [==============================] - 5s 8ms/step - loss: 0.4695 - accuracy: 0.8339 - val_loss: 0.7620 - val_accuracy: 0.7488\n",
      "Epoch 57/100\n",
      "704/704 [==============================] - 5s 8ms/step - loss: 0.4550 - accuracy: 0.8383 - val_loss: 0.8349 - val_accuracy: 0.7278\n",
      "Epoch 58/100\n",
      "704/704 [==============================] - 5s 8ms/step - loss: 0.4420 - accuracy: 0.8403 - val_loss: 1.0166 - val_accuracy: 0.6932\n",
      "Epoch 59/100\n",
      "704/704 [==============================] - 5s 8ms/step - loss: 0.4331 - accuracy: 0.8470 - val_loss: 0.8312 - val_accuracy: 0.7366\n",
      "Epoch 60/100\n",
      "704/704 [==============================] - 6s 8ms/step - loss: 0.4243 - accuracy: 0.8497 - val_loss: 0.7711 - val_accuracy: 0.7498\n",
      "Epoch 61/100\n",
      "704/704 [==============================] - 6s 8ms/step - loss: 0.4125 - accuracy: 0.8531 - val_loss: 0.7470 - val_accuracy: 0.7690\n",
      "Epoch 62/100\n",
      "704/704 [==============================] - 5s 8ms/step - loss: 0.4002 - accuracy: 0.8570 - val_loss: 0.8848 - val_accuracy: 0.7272\n",
      "Epoch 63/100\n",
      "704/704 [==============================] - 5s 8ms/step - loss: 0.3956 - accuracy: 0.8594 - val_loss: 0.7274 - val_accuracy: 0.7684\n",
      "Epoch 64/100\n",
      "704/704 [==============================] - 6s 8ms/step - loss: 0.3872 - accuracy: 0.8625 - val_loss: 1.0500 - val_accuracy: 0.6842\n",
      "Epoch 65/100\n",
      "704/704 [==============================] - 5s 8ms/step - loss: 0.3779 - accuracy: 0.8643 - val_loss: 0.8813 - val_accuracy: 0.7368\n",
      "Epoch 66/100\n",
      "704/704 [==============================] - 6s 8ms/step - loss: 0.3697 - accuracy: 0.8684 - val_loss: 0.7495 - val_accuracy: 0.7698\n",
      "Epoch 67/100\n",
      "704/704 [==============================] - 5s 8ms/step - loss: 0.3582 - accuracy: 0.8725 - val_loss: 0.7937 - val_accuracy: 0.7640\n",
      "Epoch 68/100\n",
      "704/704 [==============================] - 5s 7ms/step - loss: 0.3480 - accuracy: 0.8762 - val_loss: 1.0706 - val_accuracy: 0.7046\n",
      "Epoch 69/100\n",
      "704/704 [==============================] - 5s 7ms/step - loss: 0.3397 - accuracy: 0.8788 - val_loss: 0.7562 - val_accuracy: 0.7692\n",
      "Epoch 70/100\n",
      "704/704 [==============================] - 5s 7ms/step - loss: 0.3280 - accuracy: 0.8822 - val_loss: 1.0384 - val_accuracy: 0.7088\n",
      "Epoch 71/100\n",
      "704/704 [==============================] - 5s 8ms/step - loss: 0.3289 - accuracy: 0.8832 - val_loss: 0.7914 - val_accuracy: 0.7668\n",
      "Epoch 72/100\n",
      "704/704 [==============================] - 5s 8ms/step - loss: 0.3148 - accuracy: 0.8884 - val_loss: 0.9534 - val_accuracy: 0.7234\n",
      "Epoch 73/100\n",
      "704/704 [==============================] - 5s 8ms/step - loss: 0.3058 - accuracy: 0.8891 - val_loss: 1.1881 - val_accuracy: 0.6880\n",
      "Epoch 74/100\n",
      "704/704 [==============================] - 5s 8ms/step - loss: 0.3040 - accuracy: 0.8911 - val_loss: 1.1281 - val_accuracy: 0.6884\n",
      "Epoch 75/100\n",
      "704/704 [==============================] - 5s 8ms/step - loss: 0.2944 - accuracy: 0.8949 - val_loss: 0.9261 - val_accuracy: 0.7458\n",
      "Epoch 76/100\n",
      "704/704 [==============================] - 5s 8ms/step - loss: 0.2897 - accuracy: 0.8967 - val_loss: 0.8658 - val_accuracy: 0.7414\n",
      "Epoch 77/100\n",
      "704/704 [==============================] - 6s 8ms/step - loss: 0.2767 - accuracy: 0.9002 - val_loss: 1.0066 - val_accuracy: 0.7326\n",
      "Epoch 78/100\n",
      "704/704 [==============================] - 5s 8ms/step - loss: 0.2747 - accuracy: 0.9020 - val_loss: 0.7796 - val_accuracy: 0.7692\n",
      "Epoch 79/100\n",
      "704/704 [==============================] - 5s 8ms/step - loss: 0.2670 - accuracy: 0.9043 - val_loss: 1.9750 - val_accuracy: 0.5814\n",
      "Epoch 80/100\n",
      "704/704 [==============================] - 5s 8ms/step - loss: 0.2611 - accuracy: 0.9071 - val_loss: 0.7742 - val_accuracy: 0.7806\n",
      "Epoch 81/100\n",
      "704/704 [==============================] - 5s 8ms/step - loss: 0.2509 - accuracy: 0.9093 - val_loss: 0.9089 - val_accuracy: 0.7482\n",
      "Epoch 82/100\n",
      "704/704 [==============================] - 5s 8ms/step - loss: 0.2473 - accuracy: 0.9108 - val_loss: 1.1690 - val_accuracy: 0.6924\n",
      "Epoch 83/100\n",
      "704/704 [==============================] - 5s 8ms/step - loss: 0.2423 - accuracy: 0.9137 - val_loss: 0.8407 - val_accuracy: 0.7652\n",
      "Epoch 84/100\n",
      "704/704 [==============================] - 5s 8ms/step - loss: 0.2338 - accuracy: 0.9164 - val_loss: 1.1142 - val_accuracy: 0.7188\n",
      "Epoch 85/100\n",
      "704/704 [==============================] - 5s 8ms/step - loss: 0.2334 - accuracy: 0.9151 - val_loss: 1.2757 - val_accuracy: 0.7014\n",
      "Epoch 86/100\n",
      "704/704 [==============================] - 5s 7ms/step - loss: 0.2224 - accuracy: 0.9202 - val_loss: 0.8319 - val_accuracy: 0.7756\n",
      "Epoch 87/100\n",
      "704/704 [==============================] - 5s 8ms/step - loss: 0.2125 - accuracy: 0.9230 - val_loss: 0.8537 - val_accuracy: 0.7664\n",
      "Epoch 88/100\n",
      "704/704 [==============================] - 5s 7ms/step - loss: 0.2111 - accuracy: 0.9233 - val_loss: 0.8673 - val_accuracy: 0.7698\n",
      "Epoch 89/100\n",
      "704/704 [==============================] - 5s 8ms/step - loss: 0.2110 - accuracy: 0.9240 - val_loss: 0.8505 - val_accuracy: 0.7742\n",
      "Epoch 90/100\n",
      "704/704 [==============================] - 5s 8ms/step - loss: 0.2025 - accuracy: 0.9279 - val_loss: 0.8345 - val_accuracy: 0.7780\n",
      "Epoch 91/100\n",
      "704/704 [==============================] - 5s 7ms/step - loss: 0.1939 - accuracy: 0.9306 - val_loss: 0.9225 - val_accuracy: 0.7718\n",
      "Epoch 92/100\n",
      "704/704 [==============================] - 6s 8ms/step - loss: 0.1918 - accuracy: 0.9312 - val_loss: 0.9365 - val_accuracy: 0.7660\n",
      "Epoch 93/100\n",
      "704/704 [==============================] - 5s 7ms/step - loss: 0.1818 - accuracy: 0.9356 - val_loss: 0.8926 - val_accuracy: 0.7746\n",
      "Epoch 94/100\n",
      "704/704 [==============================] - 5s 8ms/step - loss: 0.1812 - accuracy: 0.9363 - val_loss: 0.9150 - val_accuracy: 0.7682\n",
      "Epoch 95/100\n",
      "704/704 [==============================] - 5s 8ms/step - loss: 0.1756 - accuracy: 0.9369 - val_loss: 1.1430 - val_accuracy: 0.7270\n",
      "Epoch 96/100\n",
      "704/704 [==============================] - 5s 8ms/step - loss: 0.1834 - accuracy: 0.9336 - val_loss: 0.9135 - val_accuracy: 0.7704\n",
      "Epoch 97/100\n",
      "704/704 [==============================] - 5s 8ms/step - loss: 0.1702 - accuracy: 0.9380 - val_loss: 0.9161 - val_accuracy: 0.7716\n",
      "Epoch 98/100\n",
      "704/704 [==============================] - 5s 8ms/step - loss: 0.1651 - accuracy: 0.9410 - val_loss: 1.0775 - val_accuracy: 0.7542\n",
      "Epoch 99/100\n",
      "704/704 [==============================] - 5s 7ms/step - loss: 0.1645 - accuracy: 0.9405 - val_loss: 1.2050 - val_accuracy: 0.7322\n",
      "Epoch 100/100\n",
      "704/704 [==============================] - 5s 8ms/step - loss: 0.1587 - accuracy: 0.9438 - val_loss: 1.0114 - val_accuracy: 0.7586\n"
     ]
    }
   ],
   "source": [
    "with tf.device('/gpu:0'):\n",
    "    logs = model.fit(train_features , train_labels , batch_size = 64 , epochs = 100 , validation_split = 0.1  )"
   ]
  },
  {
   "cell_type": "code",
   "execution_count": 25,
   "id": "897df7e2",
   "metadata": {},
   "outputs": [],
   "source": [
    "loss = logs.history['loss']"
   ]
  },
  {
   "cell_type": "code",
   "execution_count": 27,
   "id": "37de8ada",
   "metadata": {},
   "outputs": [],
   "source": [
    "accuracy = logs.history['accuracy']"
   ]
  },
  {
   "cell_type": "code",
   "execution_count": 29,
   "id": "530a3a4d",
   "metadata": {},
   "outputs": [
    {
     "data": {
      "text/plain": [
       "[<matplotlib.lines.Line2D at 0x2a1d65177f0>]"
      ]
     },
     "execution_count": 29,
     "metadata": {},
     "output_type": "execute_result"
    },
    {
     "data": {
      "image/png": "[encoded data removed]",
      "text/plain": [
       "<Figure size 640x480 with 1 Axes>"
      ]
     },
     "metadata": {},
     "output_type": "display_data"
    }
   ],
   "source": [
    "plt.plot(loss , c= 'green')\n",
    "plt.plot(accuracy , c = 'red')"
   ]
  },
  {
   "cell_type": "markdown",
   "id": "7efe95ce",
   "metadata": {},
   "source": [
    "Testing"
   ]
  },
  {
   "cell_type": "code",
   "execution_count": 31,
   "id": "d8fc4148",
   "metadata": {},
   "outputs": [
    {
     "name": "stdout",
     "output_type": "stream",
     "text": [
      "313/313 [==============================] - 1s 2ms/step\n"
     ]
    }
   ],
   "source": [
    "y_pred = model.predict(test_features)"
   ]
  },
  {
   "cell_type": "code",
   "execution_count": 36,
   "id": "61114d4f",
   "metadata": {},
   "outputs": [
    {
     "name": "stdout",
     "output_type": "stream",
     "text": [
      "313/313 [==============================] - 1s 3ms/step - loss: 1.1254 - accuracy: 0.7502\n"
     ]
    }
   ],
   "source": [
    "accuracy = model.evaluate(test_features , test_labels)[1]"
   ]
  },
  {
   "cell_type": "code",
   "execution_count": 37,
   "id": "12a70da5",
   "metadata": {},
   "outputs": [
    {
     "name": "stdout",
     "output_type": "stream",
     "text": [
      "Accuracy in test data is :  0.7501999735832214\n"
     ]
    }
   ],
   "source": [
    "print(\"Accuracy in test data is : \" , accuracy)"
   ]
  },
  {
   "cell_type": "code",
   "execution_count": 38,
   "id": "49a2ce89",
   "metadata": {},
   "outputs": [],
   "source": [
    "import pickle"
   ]
  },
  {
   "cell_type": "code",
   "execution_count": 40,
   "id": "5b833c0a",
   "metadata": {},
   "outputs": [
    {
     "name": "stderr",
     "output_type": "stream",
     "text": [
      "WARNING:absl:Found untraced functions such as _jit_compiled_convolution_op, _jit_compiled_convolution_op, _jit_compiled_convolution_op while saving (showing 3 of 3). These functions will not be directly callable after loading.\n"
     ]
    },
    {
     "name": "stdout",
     "output_type": "stream",
     "text": [
      "INFO:tensorflow:Assets written to: ram://e7400c4d-dcc9-4065-b531-27b36ce7ccc3/assets\n"
     ]
    },
    {
     "name": "stderr",
     "output_type": "stream",
     "text": [
      "INFO:tensorflow:Assets written to: ram://e7400c4d-dcc9-4065-b531-27b36ce7ccc3/assets\n"
     ]
    }
   ],
   "source": [
    "pickle.dump(model , open('CIFAR_Classifier.pkl' , 'wb'))"
   ]
  },
  {
   "cell_type": "code",
   "execution_count": null,
   "id": "fe3923ef",
   "metadata": {},
   "outputs": [],
   "source": []
  }
 ],
 "metadata": {
  "kernelspec": {
   "display_name": "Python 3 (ipykernel)",
   "language": "python",
   "name": "python3"
  },
  "language_info": {
   "codemirror_mode": {
    "name": "ipython",
    "version": 3
   },
   "file_extension": ".py",
   "mimetype": "text/x-python",
   "name": "python",
   "nbconvert_exporter": "python",
   "pygments_lexer": "ipython3",
   "version": "3.9.13"
  }
 },
 "nbformat": 4,
 "nbformat_minor": 5
}
